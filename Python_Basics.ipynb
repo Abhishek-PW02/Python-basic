{
  "nbformat": 4,
  "nbformat_minor": 0,
  "metadata": {
    "colab": {
      "provenance": []
    },
    "kernelspec": {
      "name": "python3",
      "display_name": "Python 3"
    },
    "language_info": {
      "name": "python"
    }
  },
  "cells": [
    {
      "cell_type": "markdown",
      "source": [
        "1. What is Python, and why is it popular\n",
        "  - Python is a high-level, versatile programming language known for its readability and ease of use. It's popular because it's beginner-friendly, can be used for a wide range of tasks, and has a large, supportive community\n",
        "\n",
        "2.  What is an interpreter in Python?\n",
        " - an interpreter is a program that executes Python code directly, without needing to compile it into machine code first.\n",
        "\n",
        "3. What are pre-defined keywords in Python?\n",
        " - Pre-defined keywords in Python, also known as reserved words, are special words that have a specific meaning and purpose within the Python language.\n",
        "\n",
        "4. Can keywords be used as variable names?\n",
        " - No.\n",
        "\n",
        "5. What is mutability in Python?\n",
        " - mutability refers to whether an object's state or value can be changed after it has been created.\n",
        "\n",
        "6. Why are lists mutable, but tuples are immutable?\n",
        " - Tupple does not support item assignment or modification whikes lists have this support.\n",
        "\n",
        "7. What is the difference between “==” and “is” operators in Python?\n",
        " - \"==\" determines if two objects have the same value while \"is\" determines if two variables refer to the same object instance in memory.\n",
        "\n",
        "8. What are logical operators in Python?\n",
        " - Logical operators in Python are used to combine conditional statements and evaluate expressions based on Boolean logic.\n",
        "\n",
        "9. What is type casting in Python?\n",
        " - the process of converting a value from one data type to another.\n",
        "\n",
        "10. What is the difference between implicit and explicit type casting?\n",
        " - Implicit casting is done automatically by the compiler when it's safe and convenient, while explicit casting requires the programmer to specify the conversion using a cast operator\n",
        "\n",
        "11. What is the purpose of conditional statements in Python?\n",
        " - The purpose of conditional statements in Python is to control the flow of execution in a program based on whether certain conditions are met.\n",
        "\n",
        "12. How does the elif statement work?\n",
        " - It is used in conditional statements to check for multiple conditions. For example, if the first condition is false, it moves on to the next “elif” statement to check if that condition is true.\n",
        "\n",
        "13. What is the difference between for and while loops?\n",
        " - for loop typically has an initialization, a condition, and an update  all within the loop's declaration.\n",
        " - while loop only has a condition. It continues to execute the loop body as long as the condition remains true.\n",
        "\n",
        "14. Describe a scenario where a while loop is more suitable than a for loop.\n",
        " - A scenario where a while loop is more suitable than a for loop is when the number of iterations is not known in advance and the loop needs to continue until a specific condition is met."
      ],
      "metadata": {
        "id": "xNssHO1trR6c"
      }
    },
    {
      "cell_type": "code",
      "source": [
        "# 1.Write a Python program to print \"Hello, World!\"\n",
        "\n",
        "print(\"Hello, World!\")\n"
      ],
      "metadata": {
        "colab": {
          "base_uri": "https://localhost:8080/"
        },
        "id": "slTVD7vEp9FN",
        "outputId": "480dfcfa-8dd5-48b8-80ed-65ff80780ce3"
      },
      "execution_count": null,
      "outputs": [
        {
          "output_type": "stream",
          "name": "stdout",
          "text": [
            "Hello, World!\n"
          ]
        }
      ]
    },
    {
      "cell_type": "code",
      "source": [
        "# 2.Write a Python program that displays your name and age\n",
        "\n",
        "name = input(\"Enter Your Name:\")\n",
        "age = input(\"Enter Your Age\")\n",
        "print(\"My name is\", name, \"My Age is\", age)"
      ],
      "metadata": {
        "colab": {
          "base_uri": "https://localhost:8080/"
        },
        "id": "ByessDBKrKpn",
        "outputId": "f38bc841-e84c-4df2-f2c4-2cccc6f56ee1"
      },
      "execution_count": null,
      "outputs": [
        {
          "output_type": "stream",
          "name": "stdout",
          "text": [
            "Enter Your Name:Abhishek\n",
            "Enter Your Age29\n",
            "My name is Abhishek My Age is 29\n"
          ]
        }
      ]
    },
    {
      "cell_type": "code",
      "source": [
        "# 3.Write code to print all the pre-defined keywords in Python using the keyword library.\n",
        "\n",
        "import keyword\n",
        "\n",
        "help(\"keywords\")"
      ],
      "metadata": {
        "colab": {
          "base_uri": "https://localhost:8080/"
        },
        "id": "AG7TA0cgtmH9",
        "outputId": "07825222-ebbf-401c-cd63-0987e9538e26"
      },
      "execution_count": 1,
      "outputs": [
        {
          "output_type": "stream",
          "name": "stdout",
          "text": [
            "\n",
            "Here is a list of the Python keywords.  Enter any keyword to get more help.\n",
            "\n",
            "False               class               from                or\n",
            "None                continue            global              pass\n",
            "True                def                 if                  raise\n",
            "and                 del                 import              return\n",
            "as                  elif                in                  try\n",
            "assert              else                is                  while\n",
            "async               except              lambda              with\n",
            "await               finally             nonlocal            yield\n",
            "break               for                 not                 \n",
            "\n"
          ]
        }
      ]
    },
    {
      "cell_type": "code",
      "source": [
        "# 4.Write a program that checks if a given word is a Python keyword.\n",
        "\n",
        "import keyword\n",
        "s = input(\"Enter Word\")\n",
        "if keyword.iskeyword(s):\n",
        "  print(s, \"is Python Keyword\")\n",
        "else:\n",
        "  print(s, \"is Not Python Keyword\")"
      ],
      "metadata": {
        "id": "GRt_AdpmvExM",
        "colab": {
          "base_uri": "https://localhost:8080/"
        },
        "outputId": "3adfce1a-f835-4b5f-a7b6-078062768a9a"
      },
      "execution_count": 8,
      "outputs": [
        {
          "output_type": "stream",
          "name": "stdout",
          "text": [
            "Enter Wordif\n",
            "if is Python Keyword\n"
          ]
        }
      ]
    }
  ]
}